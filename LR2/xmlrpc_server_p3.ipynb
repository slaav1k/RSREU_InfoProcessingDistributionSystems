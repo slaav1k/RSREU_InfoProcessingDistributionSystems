{
 "cells": [
  {
   "cell_type": "markdown",
   "metadata": {},
   "source": [
    "#### Файл сервера xmlrpc_server_p3.ipynb на Python 3 "
   ]
  },
  {
   "cell_type": "code",
   "execution_count": null,
   "metadata": {},
   "outputs": [
    {
     "name": "stdout",
     "output_type": "stream",
     "text": [
      "Listening on port 8008...\n"
     ]
    },
    {
     "name": "stderr",
     "output_type": "stream",
     "text": [
      "127.0.0.1 - - [16/Sep/2022 16:06:07] \"POST /RPC2 HTTP/1.1\" 200 -\n",
      "127.0.0.1 - - [16/Sep/2022 16:06:11] \"POST /RPC2 HTTP/1.1\" 200 -\n",
      "127.0.0.1 - - [16/Sep/2022 16:06:15] \"POST /RPC2 HTTP/1.1\" 200 -\n",
      "127.0.0.1 - - [16/Sep/2022 16:06:19] \"POST /RPC2 HTTP/1.1\" 200 -\n",
      "127.0.0.1 - - [16/Sep/2022 16:06:23] \"POST /RPC2 HTTP/1.1\" 200 -\n",
      "127.0.0.1 - - [16/Sep/2022 16:06:27] \"POST /RPC2 HTTP/1.1\" 200 -\n",
      "127.0.0.1 - - [16/Sep/2022 16:06:31] \"POST /RPC2 HTTP/1.1\" 200 -\n",
      "127.0.0.1 - - [16/Sep/2022 16:06:35] \"POST /RPC2 HTTP/1.1\" 200 -\n",
      "127.0.0.1 - - [16/Sep/2022 16:06:39] \"POST /RPC2 HTTP/1.1\" 200 -\n",
      "127.0.0.1 - - [16/Sep/2022 16:06:43] \"POST /RPC2 HTTP/1.1\" 200 -\n",
      "127.0.0.1 - - [16/Sep/2022 16:06:47] \"POST /RPC2 HTTP/1.1\" 200 -\n",
      "127.0.0.1 - - [16/Sep/2022 16:06:51] \"POST /RPC2 HTTP/1.1\" 200 -\n"
     ]
    }
   ],
   "source": [
    "\n",
    "from xmlrpc.server import SimpleXMLRPCServer\n",
    "from xmlrpc.server import SimpleXMLRPCRequestHandler\n",
    "\n",
    "import xmlrpc.client\n",
    "\n",
    "import datetime\n",
    "\n",
    "\n",
    "class RequestHandler(SimpleXMLRPCRequestHandler):\n",
    "    rpc_paths = ('/RPC2',)\n",
    "\n",
    "server = SimpleXMLRPCServer((\"localhost\", 8008), \n",
    "                            requestHandler=RequestHandler)\n",
    "\n",
    "server.register_introspection_functions()\n",
    "\n",
    "stats_server = xmlrpc.client.ServerProxy(\"http://localhost:8018\")\n",
    "\n",
    "\n",
    "# Добавление в лог через сервер\n",
    "def add_log(log_line):\n",
    "    stats_server.add_log(log_line)\n",
    "    return True\n",
    "\n",
    "# Тест\n",
    "def ping():\n",
    "    add_log('ping')\n",
    "    return True\n",
    "server.register_function(ping, 'ping')\n",
    "\n",
    "# Время сервера\n",
    "def now():\n",
    "    add_log('now')    \n",
    "    return datetime.datetime.now()\n",
    "server.register_function(now, 'now')\n",
    "\n",
    "# Отображение строкового вида, типа и значений\n",
    "def show_type(arg):\n",
    "    add_log('type')\n",
    "    return (str(arg), str(type(arg)), arg)\n",
    "server.register_function(show_type, 'type')\n",
    "\n",
    "# Сумма\n",
    "def test_sum(a, b):\n",
    "    add_log('sum')\n",
    "    return a + b\n",
    "server.register_function(test_sum, 'sum')\n",
    "\n",
    "# Степень\n",
    "def test_pow(a, b):\n",
    "    add_log('pow')\n",
    "    return a**b\n",
    "server.register_function(test_pow, 'pow')\n",
    "\n",
    "\n",
    "print (\"Listening on port 8008...\")\n",
    "server.serve_forever()\n"
   ]
  },
  {
   "cell_type": "code",
   "execution_count": null,
   "metadata": {},
   "outputs": [],
   "source": []
  }
 ],
 "metadata": {
  "kernelspec": {
   "display_name": "Python 3 (ipykernel)",
   "language": "python",
   "name": "python3"
  },
  "language_info": {
   "codemirror_mode": {
    "name": "ipython",
    "version": 3
   },
   "file_extension": ".py",
   "mimetype": "text/x-python",
   "name": "python",
   "nbconvert_exporter": "python",
   "pygments_lexer": "ipython3",
   "version": "3.9.12"
  }
 },
 "nbformat": 4,
 "nbformat_minor": 2
}
