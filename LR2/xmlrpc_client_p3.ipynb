{
 "cells": [
  {
   "cell_type": "markdown",
   "metadata": {},
   "source": [
    "#### Файл клиента xmlrpc_client_p3.ipynb на Python 3"
   ]
  },
  {
   "cell_type": "code",
   "execution_count": 1,
   "metadata": {},
   "outputs": [
    {
     "name": "stdout",
     "output_type": "stream",
     "text": [
      "['now', 'ping', 'pow', 'sum', 'system.listMethods', 'system.methodHelp', 'system.methodSignature', 'type']\n",
      "Ping: True\n",
      "Server datetime: 20220916T16:06:15\n",
      "View, type, value: ['2', \"<class 'int'>\", 2]\n",
      "View, type, value: ['2.0', \"<class 'float'>\", 2.0]\n",
      "View, type, value: ['My string', \"<class 'str'>\", 'My string']\n",
      "View, type, value: ['My string', \"<class 'str'>\", 'My string']\n",
      "View, type, value: ['[1, 2, 3]', \"<class 'list'>\", [1, 2, 3]]\n",
      "View, type, value: [\"['one', 'two', 'three']\", \"<class 'list'>\", ['one', 'two', 'three']]\n",
      "View, type, value: [\"[1, 2, '3']\", \"<class 'list'>\", [1, 2, '3']]\n",
      "Sum 2 + 3 : 5\n",
      "Pow 2^3:  8\n"
     ]
    }
   ],
   "source": [
    "# xmlrpc_client.ipynb\n",
    "\n",
    "import xmlrpc.client\n",
    "\n",
    "server = xmlrpc.client.ServerProxy(\"http://localhost:8008\")\n",
    "\n",
    "print(server.system.listMethods())\n",
    "\n",
    "print ('Ping:', server.ping())\n",
    "print ('Server datetime:', server.now())\n",
    "print ('View, type, value:', server.type(2))\n",
    "print ('View, type, value:', server.type(2.))\n",
    "print ('View, type, value:', server.type('My string'))\n",
    "print ('View, type, value:', server.type(\"My string\"))\n",
    "print ('View, type, value:', server.type([1,2,3]))\n",
    "print ('View, type, value:', server.type([\"one\", \"two\", \"three\"]))\n",
    "print ('View, type, value:', server.type((1,2,\"3\")))\n",
    "print ('Sum 2 + 3 :', server.sum(2, 3))\n",
    "print ('Pow 2^3: ', server.pow(2, 3))\n"
   ]
  },
  {
   "cell_type": "code",
   "execution_count": null,
   "metadata": {},
   "outputs": [],
   "source": []
  }
 ],
 "metadata": {
  "kernelspec": {
   "display_name": "Python 3 (ipykernel)",
   "language": "python",
   "name": "python3"
  },
  "language_info": {
   "codemirror_mode": {
    "name": "ipython",
    "version": 3
   },
   "file_extension": ".py",
   "mimetype": "text/x-python",
   "name": "python",
   "nbconvert_exporter": "python",
   "pygments_lexer": "ipython3",
   "version": "3.9.12"
  }
 },
 "nbformat": 4,
 "nbformat_minor": 2
}
