{
 "cells": [
  {
   "cell_type": "markdown",
   "metadata": {},
   "source": [
    "#### Файл сервера xmlrpc_stats_server_p3.ipynb на Python 3 "
   ]
  },
  {
   "cell_type": "code",
   "metadata": {
    "jupyter": {
     "is_executing": true
    },
    "ExecuteTime": {
     "start_time": "2025-09-20T09:20:54.321389Z"
    }
   },
   "source": [
    "from xmlrpc.server import SimpleXMLRPCServer\n",
    "from xmlrpc.server import SimpleXMLRPCRequestHandler\n",
    "import datetime\n",
    "import csv\n",
    "import os\n",
    "from pathlib import Path\n",
    "\n",
    "class RequestHandler(SimpleXMLRPCRequestHandler):\n",
    "    rpc_paths = ('/RPC2',)\n",
    "\n",
    "server = SimpleXMLRPCServer((\"127.0.0.1\", 8018), requestHandler=RequestHandler)\n",
    "\n",
    "MAX_COUNT_LINES = 100\n",
    "\n",
    "# Изменить MAX_COUNT_LINES\n",
    "def change_limit(limit):\n",
    "    global MAX_COUNT_LINES\n",
    "    if isinstance(limit, int) and limit > 0:\n",
    "        MAX_COUNT_LINES = limit\n",
    "        return True\n",
    "    return False\n",
    "server.register_function(change_limit, 'change_limit')\n",
    "\n",
    "# Тест\n",
    "def ping():\n",
    "    return True\n",
    "server.register_function(ping, 'ping')\n",
    "\n",
    "# Время сервера\n",
    "def now():\n",
    "    return datetime.datetime.now()\n",
    "server.register_function(now, 'now')\n",
    "\n",
    "# Подсчет строк в файле\n",
    "def count_lines(file_path):\n",
    "    try:\n",
    "        with open(file_path, 'r', encoding='utf-8') as f:\n",
    "            return sum(1 for line in f)\n",
    "    except FileNotFoundError:\n",
    "        return 0\n",
    "\n",
    "# Добавление строки в лог\n",
    "def add_log(sname):\n",
    "    log_file = 'logs/logs.csv'\n",
    "    os.makedirs('logs', exist_ok=True)\n",
    "\n",
    "    # Получаем текущую временную метку один раз\n",
    "    current_time = datetime.datetime.now()\n",
    "    timestamp = current_time.strftime('%Y%m%d_%H%M%S')\n",
    "    formatted_time = current_time.strftime('%Y-%m-%d %H:%M:%S')\n",
    "\n",
    "    # Проверяем количество строк\n",
    "    line_count = count_lines(log_file)\n",
    "    if line_count >= MAX_COUNT_LINES:\n",
    "        # Формируем имя архивного файла\n",
    "        archive_file = f'logs/logs_{timestamp}.csv'\n",
    "        # Переименовываем текущий файл\n",
    "        if os.path.exists(log_file):\n",
    "            os.rename(log_file, archive_file)\n",
    "        # Создаем новый пустой logs.csv с заголовками\n",
    "        with open(log_file, 'w', encoding='utf-8', newline='') as f:\n",
    "            writer = csv.writer(f, delimiter=';')\n",
    "            writer.writerow(['Event', 'Timestamp'])\n",
    "\n",
    "    # Добавляем новую запись\n",
    "    with open(log_file, 'a', encoding='utf-8', newline='') as f:\n",
    "        writer = csv.writer(f, delimiter=';')\n",
    "        writer.writerow([sname, formatted_time])\n",
    "    return True\n",
    "server.register_function(add_log, 'add_log')\n",
    "\n",
    "# Получение содержимого журнала\n",
    "def get_log():\n",
    "    log_file = 'logs/logs.csv'\n",
    "    try:\n",
    "        with open(log_file, 'r', encoding='utf-8') as f:\n",
    "            reader = csv.reader(f, delimiter=';')\n",
    "            log_entries = list(reader)\n",
    "        return log_entries\n",
    "    except FileNotFoundError:\n",
    "        return []\n",
    "server.register_function(get_log, 'get_log')\n",
    "\n",
    "print(\"Listening on port 8018...\")\n",
    "server.serve_forever()"
   ],
   "outputs": [
    {
     "name": "stdout",
     "output_type": "stream",
     "text": [
      "Listening on port 8018...\n"
     ]
    }
   ],
   "execution_count": null
  },
  {
   "cell_type": "code",
   "execution_count": null,
   "metadata": {},
   "outputs": [],
   "source": []
  }
 ],
 "metadata": {
  "kernelspec": {
   "display_name": "Python 3 (ipykernel)",
   "language": "python",
   "name": "python3"
  },
  "language_info": {
   "codemirror_mode": {
    "name": "ipython",
    "version": 3
   },
   "file_extension": ".py",
   "mimetype": "text/x-python",
   "name": "python",
   "nbconvert_exporter": "python",
   "pygments_lexer": "ipython3",
   "version": "3.9.12"
  }
 },
 "nbformat": 4,
 "nbformat_minor": 2
}
