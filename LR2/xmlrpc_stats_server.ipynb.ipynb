{
 "cells": [
  {
   "cell_type": "markdown",
   "metadata": {},
   "source": [
    "#### Файл сервера xmlrpc_stats_server_p3.ipynb на Python 3 "
   ]
  },
  {
   "cell_type": "code",
   "execution_count": null,
   "metadata": {},
   "outputs": [
    {
     "name": "stdout",
     "output_type": "stream",
     "text": [
      "Listening on port 8018...\n"
     ]
    },
    {
     "name": "stderr",
     "output_type": "stream",
     "text": [
      "127.0.0.1 - - [16/Sep/2022 16:06:11] \"POST /RPC2 HTTP/1.1\" 200 -\n",
      "127.0.0.1 - - [16/Sep/2022 16:06:15] \"POST /RPC2 HTTP/1.1\" 200 -\n",
      "127.0.0.1 - - [16/Sep/2022 16:06:19] \"POST /RPC2 HTTP/1.1\" 200 -\n",
      "127.0.0.1 - - [16/Sep/2022 16:06:23] \"POST /RPC2 HTTP/1.1\" 200 -\n",
      "127.0.0.1 - - [16/Sep/2022 16:06:27] \"POST /RPC2 HTTP/1.1\" 200 -\n",
      "127.0.0.1 - - [16/Sep/2022 16:06:31] \"POST /RPC2 HTTP/1.1\" 200 -\n",
      "127.0.0.1 - - [16/Sep/2022 16:06:35] \"POST /RPC2 HTTP/1.1\" 200 -\n",
      "127.0.0.1 - - [16/Sep/2022 16:06:39] \"POST /RPC2 HTTP/1.1\" 200 -\n",
      "127.0.0.1 - - [16/Sep/2022 16:06:43] \"POST /RPC2 HTTP/1.1\" 200 -\n",
      "127.0.0.1 - - [16/Sep/2022 16:06:47] \"POST /RPC2 HTTP/1.1\" 200 -\n",
      "127.0.0.1 - - [16/Sep/2022 16:06:51] \"POST /RPC2 HTTP/1.1\" 200 -\n"
     ]
    }
   ],
   "source": [
    "\n",
    "from xmlrpc.server import SimpleXMLRPCServer\n",
    "from xmlrpc.server import SimpleXMLRPCRequestHandler\n",
    "\n",
    "import datetime\n",
    "\n",
    "\n",
    "class RequestHandler(SimpleXMLRPCRequestHandler):\n",
    "    rpc_paths = ('/RPC2',)\n",
    "\n",
    "server = SimpleXMLRPCServer((\"localhost\", 8018), \n",
    "                            requestHandler=RequestHandler)\n",
    "\n",
    "\n",
    "# Добавление строки в лог\n",
    "def add_log(sname):\n",
    "    f = open('log.csv', 'a')\n",
    "    f.write(str(sname)+','+ datetime.datetime.now().strftime(\"%Y-%m-%d %H:%M:%S\") +'\\n')\n",
    "    f.close()\n",
    "    return True\n",
    "\n",
    "server.register_function(add_log, 'add_log')\n",
    "\n",
    "\n",
    "print (\"Listening on port 8018...\")\n",
    "server.serve_forever()\n"
   ]
  },
  {
   "cell_type": "code",
   "execution_count": null,
   "metadata": {},
   "outputs": [],
   "source": []
  }
 ],
 "metadata": {
  "kernelspec": {
   "display_name": "Python 3 (ipykernel)",
   "language": "python",
   "name": "python3"
  },
  "language_info": {
   "codemirror_mode": {
    "name": "ipython",
    "version": 3
   },
   "file_extension": ".py",
   "mimetype": "text/x-python",
   "name": "python",
   "nbconvert_exporter": "python",
   "pygments_lexer": "ipython3",
   "version": "3.9.12"
  }
 },
 "nbformat": 4,
 "nbformat_minor": 2
}
