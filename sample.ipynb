{
 "cells": [
  {
   "metadata": {},
   "cell_type": "markdown",
   "source": [
    "# This is a sample Jupyter Notebook\n",
    "\n",
    "Below is an example of a code cell. \n",
    "Put your cursor into the cell and press Shift+Enter to execute it and select the next one, or click 'Run Cell' button.\n",
    "\n",
    "Press Double Shift to search everywhere for classes, files, tool windows, actions, and settings.\n",
    "\n",
    "To learn more about Jupyter Notebooks in PyCharm, see [help](https://www.jetbrains.com/help/pycharm/ipython-notebook-support.html).\n",
    "For an overview of PyCharm, go to Help -> Learn IDE features or refer to [our documentation](https://www.jetbrains.com/help/pycharm/getting-started.html)."
   ],
   "id": "8a77807f92f26ee"
  },
  {
   "metadata": {
    "ExecuteTime": {
     "end_time": "2025-09-03T16:15:42.522498Z",
     "start_time": "2025-09-03T16:15:42.505177Z"
    }
   },
   "cell_type": "code",
   "source": "print(\"Hello World!\")\n",
   "id": "fbc121e30a2defb3",
   "outputs": [
    {
     "name": "stdout",
     "output_type": "stream",
     "text": [
      "Hello World!\n"
     ]
    }
   ],
   "execution_count": 1
  },
  {
   "metadata": {
    "ExecuteTime": {
     "end_time": "2025-09-07T09:41:59.309273Z",
     "start_time": "2025-09-07T09:41:52.360970Z"
    }
   },
   "cell_type": "code",
   "source": [
    "from xmlrpc.client import Binary\n",
    "import datetime\n",
    "import pandas as pd\n",
    "import pickle\n",
    "\n",
    "def send_back_binarization(bin_data, threshold):\n",
    "    if not 1 <= threshold <= 255:\n",
    "        raise ValueError(\"Порог должен быть в диапазоне 1-255\")\n",
    "    img_arr = pickle.loads(bin_data.data)\n",
    "    height = img_arr.shape[0]\n",
    "    width = img_arr.shape[1]\n",
    "    channels = img_arr.shape[2] if len(img_arr.shape) > 2 else 1\n",
    "    binarized_arr = [[[0 for _ in range(channels)] for _ in range(width)] for _ in range(height)]\n",
    "\n",
    "    for i in range(height):\n",
    "        for j in range(width):\n",
    "            if channels == 3:\n",
    "                avg = (img_arr[i][j][0] + img_arr[i][j][1] + img_arr[i][j][2]) // 3\n",
    "                value = 255 if avg >= threshold else 0\n",
    "                for c in range(3):\n",
    "                    binarized_arr[i][j][c] = value\n",
    "            elif channels == 1:\n",
    "                value = 255 if img_arr[i][j][0] >= threshold else 0\n",
    "                binarized_arr[i][j][0] = value\n",
    "\n",
    "    pimg = pickle.dumps(binarized_arr)\n",
    "    return Binary(pimg)\n",
    "\n",
    "import matplotlib.pyplot as plt\n",
    "from xmlrpc.client import ServerProxy, Binary\n",
    "import pickle\n",
    "import numpy as np\n",
    "\n",
    "def make_bin(img_arr_in):\n",
    "    pimg = pickle.dumps(img_arr_in)\n",
    "    img_bin = Binary(pimg)\n",
    "\n",
    "    img_bin2 = send_back_binarization(img_bin, 100)\n",
    "\n",
    "    img_arr_out = pickle.loads(img_bin2.data)\n",
    "    return img_arr_out\n",
    "\n",
    "img_arr = plt.imread('LR1/Jellyfish.jpg')\n",
    "img_arr_bin = make_bin(img_arr)\n",
    "\n",
    "# Изображение с инверсией цвета\n",
    "plt.imshow(img_arr_bin)\n",
    "plt.show()"
   ],
   "id": "2431f5be58698cd3",
   "outputs": [
    {
     "name": "stderr",
     "output_type": "stream",
     "text": [
      "C:\\Users\\arkhi\\AppData\\Local\\Temp\\ipykernel_12988\\305666399.py:18: RuntimeWarning: overflow encountered in scalar add\n",
      "  avg = (img_arr[i][j][0] + img_arr[i][j][1] + img_arr[i][j][2]) // 3\n"
     ]
    },
    {
     "data": {
      "text/plain": [
       "<Figure size 640x480 with 1 Axes>"
      ],
      "image/png": "[encoded data removed]"
     },
     "metadata": {},
     "output_type": "display_data"
    }
   ],
   "execution_count": 1
  },
  {
   "metadata": {
    "ExecuteTime": {
     "end_time": "2025-09-06T14:46:37.160236Z",
     "start_time": "2025-09-06T14:46:34.637559Z"
    }
   },
   "cell_type": "code",
   "source": [
    "import matplotlib.pyplot as plt\n",
    "from xmlrpc.client import ServerProxy, Binary\n",
    "import pickle\n",
    "import numpy as np\n",
    "\n",
    "# Режим отображения внутри ноутбука\n",
    "%matplotlib inline\n",
    "\n",
    "# Создание прокси для подключения к серверу (предполагается, что сервер запущен на localhost:8008)\n",
    "server = ServerProxy(\"http://localhost:8008\")\n",
    "\n",
    "# Функция для бинаризации через сервер\n",
    "def make_bin(img_arr_in):\n",
    "    # Нормализация значений из 0.0-1.0 в 0-255\n",
    "    img_arr_normalized = (img_arr_in * 255).astype(np.uint8)\n",
    "    pimg = pickle.dumps(img_arr_normalized)\n",
    "    img_bin = Binary(pimg)\n",
    "\n",
    "    print(f\"Отправлено: shape={img_arr_normalized.shape}, min={img_arr_normalized.min()}, max={img_arr_normalized.max()}\")  # Отладка\n",
    "    img_bin2 = server.send_back_binarization(img_bin, 50)  # Вызов серверной функции\n",
    "    img_arr_out = pickle.loads(img_bin2.data)\n",
    "    print(f\"Получено: shape={img_arr_out.shape}, min={img_arr_out.min()}, max={img_arr_out.max()}\")  # Отладка\n",
    "    return img_arr_out\n",
    "\n",
    "# Загрузка изображения\n",
    "try:\n",
    "    img_arr = plt.imread('LR1/11.bmp')\n",
    "    print(f\"Исходное изображение: shape={img_arr.shape}, min={img_arr.min()}, max={img_arr.max()}, dtype={img_arr.dtype}\")  # Отладка\n",
    "\n",
    "    # Бинаризация\n",
    "    img_arr_bin = make_bin(img_arr)\n",
    "\n",
    "    # Отображение результата\n",
    "    plt.imshow(img_arr_bin)\n",
    "    plt.axis('off')\n",
    "    plt.title('Бинаризованное изображение')\n",
    "    plt.show()\n",
    "except FileNotFoundError as e:\n",
    "    print(f\"Ошибка: Файл не найден - {e}\")\n",
    "except Exception as e:\n",
    "    print(f\"Ошибка: {e}\")"
   ],
   "id": "4fcdbc64565f3f76",
   "outputs": [
    {
     "name": "stdout",
     "output_type": "stream",
     "text": [
      "Исходное изображение: shape=(780, 780, 4), min=0, max=255, dtype=uint8\n",
      "Отправлено: shape=(780, 780, 4), min=0, max=255\n",
      "Ошибка: <Fault 1: \"<class 'NameError'>:name 'Image' is not defined\">\n"
     ]
    }
   ],
   "execution_count": 1
  }
 ],
 "metadata": {
  "kernelspec": {
   "display_name": "Python 3",
   "language": "python",
   "name": "python3"
  },
  "language_info": {
   "codemirror_mode": {
    "name": "ipython",
    "version": 2
   },
   "file_extension": ".py",
   "mimetype": "text/x-python",
   "name": "python",
   "nbconvert_exporter": "python",
   "pygments_lexer": "ipython2",
   "version": "2.7.6"
  }
 },
 "nbformat": 4,
 "nbformat_minor": 5
}
